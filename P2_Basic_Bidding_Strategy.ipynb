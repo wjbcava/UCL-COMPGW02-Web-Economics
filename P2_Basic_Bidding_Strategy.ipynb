{
 "cells": [
  {
   "cell_type": "code",
   "execution_count": 1,
   "metadata": {
    "collapsed": true
   },
   "outputs": [],
   "source": [
    "import pandas as pd\n",
    "import numpy as np\n",
    "import os\n",
    "import random\n",
    "import matplotlib.pyplot as plt\n",
    "import operator"
   ]
  },
  {
   "cell_type": "code",
   "execution_count": 2,
   "metadata": {
    "collapsed": true
   },
   "outputs": [],
   "source": [
    "train=pd.read_csv('train.csv')\n",
    "validation=pd.read_csv('validation.csv')\n",
    "test=pd.read_csv('test.csv')"
   ]
  },
  {
   "cell_type": "code",
   "execution_count": 3,
   "metadata": {
    "collapsed": true
   },
   "outputs": [],
   "source": [
    "y = train.click\n",
    "y_validation = validation.click"
   ]
  },
  {
   "cell_type": "markdown",
   "metadata": {},
   "source": [
    "# 1.Constant Bidding"
   ]
  },
  {
   "cell_type": "code",
   "execution_count": 5,
   "metadata": {},
   "outputs": [],
   "source": [
    "eval_cons_train = pd.DataFrame(columns=['bid_base','Imps','spend','clicks'])\n",
    "\n",
    "max_num = 0\n",
    "max_bid = 0\n",
    "spend = 0\n",
    "best = 0\n",
    "iteration = 0\n",
    "\n",
    "for bid_base in np.arange(3,300,3):\n",
    "    num_click = 0\n",
    "    flag = True\n",
    "    Imps = 0\n",
    "    spend = 0\n",
    "    iteration += 1\n",
    "    for i in range(train.shape[0]):\n",
    "        bid = bid_base\n",
    "        \n",
    "        if bid >= train.payprice[i] and flag:\n",
    "            spend = spend + train.payprice[i]\n",
    "            if spend > 6250000:\n",
    "                spend=spend-train.payprice[i]\n",
    "                flag = False\n",
    "                break\n",
    "            num_click = num_click + train.click[i]\n",
    "            Imps = Imps + 1\n",
    "    eval_cons_train.loc[iteration,'bid_base'] = bid_base\n",
    "    eval_cons_train.loc[iteration,'clicks'] = num_click\n",
    "    eval_cons_train.loc[iteration,'spend'] = spend/1000\n",
    "    eval_cons_train.loc[iteration,'Imps'] = Imps\n",
    "    \n",
    "    if num_click > max_num:\n",
    "        max_num  = num_click\n",
    "        max_bid = bid_base\n",
    "        best = bid_base\n",
    "        \n",
    "eval_cons_train['CTR'] = eval_cons_train['clicks']/eval_cons_train['Imps']\n",
    "eval_cons_train['eCPC'] = eval_cons_train['spend']/eval_cons_train['clicks']\n",
    "eval_cons_train['CPM'] = eval_cons_train['spend']*1000/eval_cons_train['Imps']"
   ]
  },
  {
   "cell_type": "code",
   "execution_count": 6,
   "metadata": {},
   "outputs": [
    {
     "data": {
      "text/html": [
       "<div>\n",
       "<style>\n",
       "    .dataframe thead tr:only-child th {\n",
       "        text-align: right;\n",
       "    }\n",
       "\n",
       "    .dataframe thead th {\n",
       "        text-align: left;\n",
       "    }\n",
       "\n",
       "    .dataframe tbody tr th {\n",
       "        vertical-align: top;\n",
       "    }\n",
       "</style>\n",
       "<table border=\"1\" class=\"dataframe\">\n",
       "  <thead>\n",
       "    <tr style=\"text-align: right;\">\n",
       "      <th></th>\n",
       "      <th>bid_base</th>\n",
       "      <th>Imps</th>\n",
       "      <th>spend</th>\n",
       "      <th>clicks</th>\n",
       "      <th>CTR</th>\n",
       "      <th>eCPC</th>\n",
       "      <th>CPM</th>\n",
       "    </tr>\n",
       "  </thead>\n",
       "  <tbody>\n",
       "    <tr>\n",
       "      <th>8</th>\n",
       "      <td>24</td>\n",
       "      <td>411910</td>\n",
       "      <td>6249.99</td>\n",
       "      <td>134</td>\n",
       "      <td>0.000325314</td>\n",
       "      <td>46.6417</td>\n",
       "      <td>15.1732</td>\n",
       "    </tr>\n",
       "  </tbody>\n",
       "</table>\n",
       "</div>"
      ],
      "text/plain": [
       "  bid_base    Imps    spend clicks          CTR     eCPC      CPM\n",
       "8       24  411910  6249.99    134  0.000325314  46.6417  15.1732"
      ]
     },
     "execution_count": 6,
     "metadata": {},
     "output_type": "execute_result"
    }
   ],
   "source": [
    "eval_cons_train.iloc[np.where(eval_cons_train.clicks == eval_cons_train.clicks.max())[0]]"
   ]
  },
  {
   "cell_type": "code",
   "execution_count": 5,
   "metadata": {
    "collapsed": true
   },
   "outputs": [],
   "source": [
    "eval_cons = pd.DataFrame(columns=['bid_base','Imps','spend','clicks'])\n",
    "\n",
    "max_num = 0\n",
    "max_bid = 0\n",
    "spend = 0\n",
    "best = 0\n",
    "iteration = 0\n",
    "\n",
    "for bid_base in np.arange(3,300,2):\n",
    "    num_click = 0\n",
    "    flag = True\n",
    "    Imps = 0\n",
    "    spend = 0\n",
    "    iteration += 1\n",
    "    for i in range(validation.shape[0]):\n",
    "        bid = bid_base\n",
    "        \n",
    "        if bid >= validation.payprice[i] and flag:\n",
    "            spend = spend + validation.payprice[i]\n",
    "            if spend > 6250000:\n",
    "                spend = spend - validation.payprice[i]\n",
    "                flag = False\n",
    "                break\n",
    "            num_click = num_click + validation.click[i]\n",
    "            Imps = Imps + 1\n",
    "    eval_cons.loc[iteration,'bid_base'] = bid_base\n",
    "    eval_cons.loc[iteration,'clicks'] = num_click\n",
    "    eval_cons.loc[iteration,'spend'] = spend/1000\n",
    "    eval_cons.loc[iteration,'Imps'] = Imps\n",
    "    \n",
    "    if num_click > max_num:\n",
    "        max_num  = num_click\n",
    "        max_bid = bid_base\n",
    "        best = bid_base\n",
    "        \n",
    "eval_cons['CTR'] = eval_cons['clicks']/eval_cons['Imps']\n",
    "eval_cons['eCPC'] = eval_cons['spend']/eval_cons['clicks']\n",
    "eval_cons['CPM'] = eval_cons['spend']*1000/eval_cons['Imps']"
   ]
  },
  {
   "cell_type": "code",
   "execution_count": 6,
   "metadata": {},
   "outputs": [
    {
     "data": {
      "text/html": [
       "<div>\n",
       "<style scoped>\n",
       "    .dataframe tbody tr th:only-of-type {\n",
       "        vertical-align: middle;\n",
       "    }\n",
       "\n",
       "    .dataframe tbody tr th {\n",
       "        vertical-align: top;\n",
       "    }\n",
       "\n",
       "    .dataframe thead th {\n",
       "        text-align: right;\n",
       "    }\n",
       "</style>\n",
       "<table border=\"1\" class=\"dataframe\">\n",
       "  <thead>\n",
       "    <tr style=\"text-align: right;\">\n",
       "      <th></th>\n",
       "      <th>bid_base</th>\n",
       "      <th>Imps</th>\n",
       "      <th>spend</th>\n",
       "      <th>clicks</th>\n",
       "      <th>CTR</th>\n",
       "      <th>eCPC</th>\n",
       "      <th>CPM</th>\n",
       "    </tr>\n",
       "  </thead>\n",
       "  <tbody>\n",
       "    <tr>\n",
       "      <th>38</th>\n",
       "      <td>77</td>\n",
       "      <td>146864</td>\n",
       "      <td>6249.99</td>\n",
       "      <td>68</td>\n",
       "      <td>0.000463013</td>\n",
       "      <td>91.9116</td>\n",
       "      <td>42.5563</td>\n",
       "    </tr>\n",
       "    <tr>\n",
       "      <th>39</th>\n",
       "      <td>79</td>\n",
       "      <td>145916</td>\n",
       "      <td>6249.96</td>\n",
       "      <td>68</td>\n",
       "      <td>0.000466022</td>\n",
       "      <td>91.9111</td>\n",
       "      <td>42.8326</td>\n",
       "    </tr>\n",
       "  </tbody>\n",
       "</table>\n",
       "</div>"
      ],
      "text/plain": [
       "   bid_base    Imps    spend clicks          CTR     eCPC      CPM\n",
       "38       77  146864  6249.99     68  0.000463013  91.9116  42.5563\n",
       "39       79  145916  6249.96     68  0.000466022  91.9111  42.8326"
      ]
     },
     "execution_count": 6,
     "metadata": {},
     "output_type": "execute_result"
    }
   ],
   "source": [
    "eval_cons.iloc[np.where(eval_cons.clicks == eval_cons.clicks.max())[0]]"
   ]
  },
  {
   "cell_type": "code",
   "execution_count": 9,
   "metadata": {},
   "outputs": [
    {
     "data": {
      "image/png": "[encoded data removed]",
      "text/plain": [
       "<matplotlib.figure.Figure at 0x1059f8128>"
      ]
     },
     "metadata": {},
     "output_type": "display_data"
    }
   ],
   "source": [
    "first_line = eval_cons[['bid_base','clicks']].astype(float)\n",
    "second_line = eval_cons[['bid_base','CTR']].astype(float)\n",
    "\n",
    "fig, ax1 = plt.subplots()\n",
    "ax1.plot(first_line.bid_base,first_line.clicks, color='b')\n",
    "ax1.set_xlabel('Bid')\n",
    "ax1.set_ylabel('Clicks', color='b')\n",
    "\n",
    "\n",
    "ax2 = ax1.twinx()\n",
    "ax2.plot(second_line.bid_base, second_line.CTR, color='g')\n",
    "ax2.set_ylabel('CTR', color='g')\n",
    "\n",
    "plt.title(\"Constant Strategy\")\n",
    "plt.savefig('constant.png')\n",
    "plt.show()"
   ]
  },
  {
   "cell_type": "markdown",
   "metadata": {},
   "source": [
    "# 2.Random Bidding"
   ]
  },
  {
   "cell_type": "code",
   "execution_count": 13,
   "metadata": {
    "collapsed": true
   },
   "outputs": [],
   "source": [
    "eval_Random = pd.DataFrame(columns=['lower','upper','bid','Imps','spend','clicks'])\n",
    "\n",
    "max_num = 0\n",
    "max_bid = 0\n",
    "spend = 0\n",
    "iteration = 0\n",
    "\n",
    "for lower in np.arange(30,70,5):\n",
    "    for upper in np.arange(80,310,5):\n",
    "        \n",
    "        num_click = 0\n",
    "        flag = True\n",
    "        Imps = 0\n",
    "        spend = 0\n",
    "        iteration += 1\n",
    "        for i in range(validation.shape[0]):\n",
    "            bid = random.randint(lower,upper)\n",
    "            if bid >= validation.payprice[i] and flag:\n",
    "                spend = spend + validation.payprice[i]\n",
    "                if spend > 6250000:\n",
    "                    spend = spend - validation.payprice[i]\n",
    "                    flag = False\n",
    "                    break\n",
    "                num_click = num_click + validation.click[i]\n",
    "                Imps = Imps + 1\n",
    "                \n",
    "        eval_Random.loc[iteration,'lower'] = lower\n",
    "        eval_Random.loc[iteration,'upper'] = upper\n",
    "        eval_Random.loc[iteration,'bid'] = bid\n",
    "        eval_Random.loc[iteration,'clicks'] = num_click\n",
    "        eval_Random.loc[iteration,'spend'] = spend/1000\n",
    "        eval_Random.loc[iteration,'Imps'] = Imps\n",
    "    \n",
    "                \n",
    "        if num_click > max_num:\n",
    "            max_num = num_click\n",
    "            #max_bid = bid_base\n",
    "\n",
    "eval_Random['CTR'] = eval_Random['clicks']/eval_Random['Imps']\n",
    "eval_Random['eCPC'] = eval_Random['spend']/eval_Random['clicks']\n",
    "eval_Random['CPM'] = eval_Random['spend']*1000/eval_Random['Imps']"
   ]
  },
  {
   "cell_type": "code",
   "execution_count": 14,
   "metadata": {},
   "outputs": [
    {
     "data": {
      "text/html": [
       "<div>\n",
       "<style scoped>\n",
       "    .dataframe tbody tr th:only-of-type {\n",
       "        vertical-align: middle;\n",
       "    }\n",
       "\n",
       "    .dataframe tbody tr th {\n",
       "        vertical-align: top;\n",
       "    }\n",
       "\n",
       "    .dataframe thead th {\n",
       "        text-align: right;\n",
       "    }\n",
       "</style>\n",
       "<table border=\"1\" class=\"dataframe\">\n",
       "  <thead>\n",
       "    <tr style=\"text-align: right;\">\n",
       "      <th></th>\n",
       "      <th>lower</th>\n",
       "      <th>upper</th>\n",
       "      <th>bid</th>\n",
       "      <th>Imps</th>\n",
       "      <th>spend</th>\n",
       "      <th>clicks</th>\n",
       "      <th>CTR</th>\n",
       "      <th>eCPC</th>\n",
       "      <th>CPM</th>\n",
       "    </tr>\n",
       "  </thead>\n",
       "  <tbody>\n",
       "    <tr>\n",
       "      <th>96</th>\n",
       "      <td>40</td>\n",
       "      <td>95</td>\n",
       "      <td>93</td>\n",
       "      <td>160146</td>\n",
       "      <td>6152.62</td>\n",
       "      <td>78</td>\n",
       "      <td>0.000487056</td>\n",
       "      <td>78.8797</td>\n",
       "      <td>38.4188</td>\n",
       "    </tr>\n",
       "  </tbody>\n",
       "</table>\n",
       "</div>"
      ],
      "text/plain": [
       "   lower upper bid    Imps    spend clicks          CTR     eCPC      CPM\n",
       "96    40    95  93  160146  6152.62     78  0.000487056  78.8797  38.4188"
      ]
     },
     "execution_count": 14,
     "metadata": {},
     "output_type": "execute_result"
    }
   ],
   "source": [
    "eval_Random =eval_Random.sort_values(by = 'bid')\n",
    "eval_Random.iloc[np.where(eval_Random.clicks == eval_Random.clicks.max())[0]]"
   ]
  },
  {
   "cell_type": "code",
   "execution_count": 15,
   "metadata": {},
   "outputs": [
    {
     "data": {
      "image/png": "[encoded data removed]",
      "text/plain": [
       "<matplotlib.figure.Figure at 0x1137f5ba8>"
      ]
     },
     "metadata": {},
     "output_type": "display_data"
    }
   ],
   "source": [
    "first_line = eval_Random[['bid','clicks']].astype(float)\n",
    "second_line = eval_Random[['bid','CTR']].astype(float)\n",
    "\n",
    "fig, ax1 = plt.subplots()\n",
    "ax1.plot(first_line.bid,first_line.clicks, color='b')\n",
    "ax1.set_xlabel('Bid')\n",
    "ax1.set_ylabel('Clicks', color='b')\n",
    "ax1.set_ylim((30,80))\n",
    "\n",
    "ax2 = ax1.twinx()\n",
    "ax2.plot(second_line.bid, second_line.CTR, color='g')\n",
    "ax2.set_ylabel('CTR', color='g')\n",
    "ax2.set_ylim((0.00035,0.0007))\n",
    "plt.title(\"Random Strategy\")\n",
    "plt.savefig('random.png')\n",
    "plt.show()"
   ]
  },
  {
   "cell_type": "code",
   "execution_count": null,
   "metadata": {
    "collapsed": true
   },
   "outputs": [],
   "source": []
  }
 ],
 "metadata": {
  "kernelspec": {
   "display_name": "Python 3",
   "language": "python",
   "name": "python3"
  },
  "language_info": {
   "codemirror_mode": {
    "name": "ipython",
    "version": 3
   },
   "file_extension": ".py",
   "mimetype": "text/x-python",
   "name": "python",
   "nbconvert_exporter": "python",
   "pygments_lexer": "ipython3",
   "version": "3.6.3"
  }
 },
 "nbformat": 4,
 "nbformat_minor": 2
}
